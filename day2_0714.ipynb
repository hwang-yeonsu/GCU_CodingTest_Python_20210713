{
 "cells": [
  {
   "cell_type": "markdown",
   "metadata": {
    "toc": true
   },
   "source": [
    "<h1>Table of Contents<span class=\"tocSkip\"></span></h1>\n",
    "<div class=\"toc\"><ul class=\"toc-item\"><li><span><a href=\"#문자열\" data-toc-modified-id=\"문자열-1\">문자열</a></span></li><li><span><a href=\"#스택/큐\" data-toc-modified-id=\"스택/큐-2\">스택/큐</a></span></li></ul></div>"
   ]
  },
  {
   "cell_type": "markdown",
   "metadata": {},
   "source": [
    "# 문자열"
   ]
  },
  {
   "cell_type": "code",
   "execution_count": 12,
   "metadata": {},
   "outputs": [
    {
     "name": "stdout",
     "output_type": "stream",
     "text": [
      "[True, True, False, True, False, True]\n"
     ]
    }
   ],
   "source": [
    "# 회문(Palindrome) 판별\n",
    "def is_palindromes(texts):\n",
    "    result = []\n",
    "    for text in texts:\n",
    "        tmp = [x.upper() for x in text if x.isalnum()]\n",
    "        \n",
    "        if(tmp == []):\n",
    "            result.append(False)\n",
    "            continue\n",
    "\n",
    "        for i in range(len(tmp)):\n",
    "            if(tmp[i] != tmp[-1-i]):\n",
    "                result.append(False)\n",
    "                break\n",
    "        else:\n",
    "            result.append(True)\n",
    "            \n",
    "    return result\n",
    "\n",
    "texts = [\"Madam, I'm Adam.\", \"rotator\", \"Hello\", \"nurses run\", \" \", \"10001\"]\n",
    "print(is_palindromes(texts))"
   ]
  },
  {
   "cell_type": "code",
   "execution_count": 5,
   "metadata": {},
   "outputs": [
    {
     "name": "stdout",
     "output_type": "stream",
     "text": [
      "1994\n"
     ]
    }
   ],
   "source": [
    "# 로마숫자를 정수로\n",
    "roman_dict = {'I':1, 'V':5, 'X':10, 'L':50, 'C':100, 'D':500, 'M':1000}\n",
    "def roman_to_num(roman):\n",
    "    result = 0\n",
    "    for i in range(len(roman)):\n",
    "        num = roman_dict[roman[i]]\n",
    "        try:\n",
    "            if(num < roman_dict[roman[i+1]]):\n",
    "                num = -num\n",
    "        except:\n",
    "            pass\n",
    "        result += num\n",
    "\n",
    "    return result\n",
    "    \n",
    "print(roman_to_num(\"MCMXCIV\"))"
   ]
  },
  {
   "cell_type": "code",
   "execution_count": 22,
   "metadata": {},
   "outputs": [
    {
     "name": "stdout",
     "output_type": "stream",
     "text": [
      "text: This is the Caesar Cryptographic Algorithm.\n",
      "enc : Yklv lv wkh Hdhvdu Hubswrjudsklf Fojrulwkp.\n",
      "dec : This is the Caesar Cryptographic Algorithm.\n"
     ]
    }
   ],
   "source": [
    "# 카이사르 암호\n",
    "def Encrypt(text, n, m):\n",
    "    result_enc = ''\n",
    "    for i in text:\n",
    "        if(i.isupper()):\n",
    "            gap = (ord(i)-ord('A')+m) % 26\n",
    "            result_enc += chr(ord('A') + gap)\n",
    "        elif(i.islower()):\n",
    "            gap = (ord(i)-ord('a')+n) % 26\n",
    "            result_enc += chr(ord('a') + gap)\n",
    "        else:\n",
    "            result_enc += i\n",
    "    return result_enc\n",
    "\n",
    "def Decrypt(enc, n, m):\n",
    "    return Encrypt(enc, -n, -m)\n",
    "\n",
    "\n",
    "text = 'This is the Caesar Cryptographic Algorithm.'\n",
    "print('text:', text)\n",
    "enc = Encrypt(text, 3, 5)\n",
    "print('enc :', enc)\n",
    "print('dec :', Decrypt(enc, 3, 5))"
   ]
  },
  {
   "cell_type": "code",
   "execution_count": 14,
   "metadata": {},
   "outputs": [
    {
     "name": "stdout",
     "output_type": "stream",
     "text": [
      "[37, 212, 456, 224, False]\n",
      "[37, 15, 7, True]\n"
     ]
    }
   ],
   "source": [
    "# 이진 탐색\n",
    "def solution(nums, target):\n",
    "    result = []\n",
    "    while True:\n",
    "        index = len(nums)//2\n",
    "        result.append(nums[index])\n",
    "        \n",
    "        if(result[-1] == target):\n",
    "            result.append(True)\n",
    "            return result\n",
    "        elif(result[-1] > target):\n",
    "            nums = nums[:index]\n",
    "        else:\n",
    "            nums = nums[index+1:]\n",
    "            \n",
    "        if(index == 0):\n",
    "            result.append(False)\n",
    "            return result\n",
    "\n",
    "\n",
    "re1 = solution(nums=[2, 7, 11, 15, 22, 34, 37, 50, 120, 212, 224, 456], target=223)\n",
    "re2 = solution(nums=[2, 7, 11, 15, 22, 34, 37, 50, 120, 212, 223, 456], target=7)\n",
    "print(re1)\n",
    "print(re2)"
   ]
  },
  {
   "cell_type": "code",
   "execution_count": 200,
   "metadata": {},
   "outputs": [
    {
     "name": "stdout",
     "output_type": "stream",
     "text": [
      "[0, 1]\n"
     ]
    }
   ],
   "source": [
    "# Two Sum_simple\n",
    "def solution1(nums, target):\n",
    "    length = len(nums)\n",
    "    for i in range(length):\n",
    "        for j in range(i+1, length):\n",
    "            if(nums[i]+nums[j] == target):\n",
    "                return [i, j] \n",
    "\n",
    "\n",
    "re = solution1(nums=[2,7,11,15], target=9)\n",
    "print(re)"
   ]
  },
  {
   "cell_type": "code",
   "execution_count": 201,
   "metadata": {},
   "outputs": [
    {
     "name": "stdout",
     "output_type": "stream",
     "text": [
      "[0, 1]\n"
     ]
    }
   ],
   "source": [
    "# Two Sum\n",
    "def solution2(nums, target):\n",
    "    # nums = [x for x in nums if x<target]    ## nums에 0과 음수가 주어지지 않을 때\n",
    "    length = len(nums)\n",
    "    for i in range(length):\n",
    "        tmp = target - nums[i]\n",
    "        for j in range(i+1, length):\n",
    "            if(nums[j] == tmp):\n",
    "                return [i, j] \n",
    "    \n",
    "    \n",
    "re = solution2(nums=[2,7,11,15], target=9)\n",
    "print(re)"
   ]
  },
  {
   "cell_type": "code",
   "execution_count": 202,
   "metadata": {},
   "outputs": [
    {
     "name": "stdout",
     "output_type": "stream",
     "text": [
      "0 1\n",
      "[0, 1]\n"
     ]
    }
   ],
   "source": [
    "# Two Sum_dynamic !!!\n",
    "def solution3(nums, target):\n",
    "    res_dict={}\n",
    "    for i, v in enumerate(nums):\n",
    "        if v in res_dict:\n",
    "            res_dict[v].append(i)\n",
    "        else:\n",
    "            res_dict[v] = [i]\n",
    "            \n",
    "    tmp = nums.copy()\n",
    "    tmp.sort()\n",
    "    \n",
    "    l, r = 0, len(tmp)-1\n",
    "    while l<r:\n",
    "        s = tmp[l] + tmp[r]\n",
    "        if(s<target):\n",
    "            l += 1\n",
    "        elif(s>target):\n",
    "            r -= 1\n",
    "        else:\n",
    "            print(l,r)\n",
    "            one = res_dict[tmp[l]][0]\n",
    "            two = res_dict[tmp[r]][0]\n",
    "            return [one, two]\n",
    "    \n",
    "    \n",
    "    \n",
    "re = solution3(nums=[2,7,11,15], target=9)\n",
    "print(re)"
   ]
  },
  {
   "cell_type": "code",
   "execution_count": 203,
   "metadata": {},
   "outputs": [
    {
     "name": "stdout",
     "output_type": "stream",
     "text": [
      "[0, 1]\n"
     ]
    }
   ],
   "source": [
    "# Two Sum_mydynamic\n",
    "def solution4(nums, target):\n",
    "    nums = [x for x in nums if x<target]    ## nums에 0과 음수가 주어지지 않을 때\n",
    "    res_dict={}\n",
    "    for i, v in enumerate(nums):\n",
    "        if v in res_dict:\n",
    "            res_dict[v].append(i)\n",
    "        else:\n",
    "            res_dict[v] = [i]\n",
    "            \n",
    "    length = len(nums)\n",
    "    for i in range(length):\n",
    "        tmp = target - nums[i]\n",
    "        if(tmp in res_dict):\n",
    "            return [i, res_dict[tmp][0]]\n",
    "    else:\n",
    "        return []\n",
    "            \n",
    "            \n",
    "re = solution4(nums=[2,7,11,15], target=9)\n",
    "print(re)"
   ]
  },
  {
   "cell_type": "code",
   "execution_count": 208,
   "metadata": {},
   "outputs": [
    {
     "name": "stdout",
     "output_type": "stream",
     "text": [
      "[0, 1]\n"
     ]
    }
   ],
   "source": [
    "# Two Sum_dynamic google\n",
    "def solution5(nums, target):\n",
    "    nums = [x for x in nums if x<target]    ## nums에 0과 음수가 주어지지 않을 때\n",
    "    seen = {}\n",
    " \n",
    "    for idx, val in enumerate(nums):\n",
    "        another = target - val\n",
    " \n",
    "        if another in seen:\n",
    "            # seen에 넣었던 값이 먼저 return 돼야 한다.\n",
    "            return [seen[another], idx]\n",
    "        else:\n",
    "            seen[val] = idx\n",
    " \n",
    "    return []\n",
    "\n",
    "\n",
    "            \n",
    "            \n",
    "re = solution5(nums=[2,7,11,15], target=9)\n",
    "print(re)"
   ]
  },
  {
   "cell_type": "code",
   "execution_count": 207,
   "metadata": {},
   "outputs": [
    {
     "name": "stdout",
     "output_type": "stream",
     "text": [
      "10538054\n",
      "time: 1.8793277740478516\n",
      "[97, 32771]\n",
      "97 32771\n",
      "-------------------------\n",
      "time: 1.0301542282104492\n",
      "[97, 32771]\n",
      "97 32771\n",
      "-------------------------\n",
      "5665 99735\n",
      "time: 0.11293363571166992\n",
      "[97065, 69098]\n",
      "97065 69098\n",
      "-------------------------\n",
      "time: 0.09795641899108887\n",
      "[97, 32771]\n",
      "97 32771\n",
      "-------------------------\n",
      "time: 0.019989013671875\n",
      "[1476, 3791]\n",
      "1476 3791\n"
     ]
    }
   ],
   "source": [
    "# test\n",
    "import random\n",
    "import time\n",
    "\n",
    "nums=[]\n",
    "for i in range(100000):\n",
    "    nums.append(random.randint(1,10000000))\n",
    "target = nums[9999] + nums[1234]\n",
    "print(target)\n",
    "\n",
    "# solution1\n",
    "start = time.time()\n",
    "re1 = solution1(nums, target)\n",
    "print('time:', time.time()-start)\n",
    "print(re1)\n",
    "print(re1[0], re1[1])\n",
    "\n",
    "print('-------------------------')\n",
    "\n",
    "# solution2\n",
    "start = time.time()\n",
    "re2 = solution2(nums, target)\n",
    "print('time:', time.time()-start)\n",
    "print(re2)\n",
    "print(re2[0], re2[1])\n",
    "\n",
    "print('-------------------------')\n",
    "\n",
    "# solution3\n",
    "start = time.time()\n",
    "re3 = solution3(nums, target)\n",
    "print('time:', time.time()-start)\n",
    "print(re3)\n",
    "print(re3[0], re3[1])\n",
    "\n",
    "print('-------------------------')\n",
    "\n",
    "# solution4\n",
    "start = time.time()\n",
    "re4 = solution4(nums, target)\n",
    "print('time:', time.time()-start)\n",
    "print(re4)\n",
    "print(re4[0], re4[1])\n",
    "\n",
    "print('-------------------------')\n",
    "\n",
    "# solution5\n",
    "start = time.time()\n",
    "re5 = solution5(nums, target)\n",
    "print('time:', time.time()-start)\n",
    "print(re5)\n",
    "print(re5[0], re5[1])"
   ]
  },
  {
   "cell_type": "markdown",
   "metadata": {},
   "source": [
    "# 스택/큐"
   ]
  },
  {
   "cell_type": "code",
   "execution_count": 276,
   "metadata": {},
   "outputs": [
    {
     "name": "stdout",
     "output_type": "stream",
     "text": [
      "10.0\n",
      "ZeroDivisionError: division by zero: [10.0, '/', 0.0]\n"
     ]
    }
   ],
   "source": [
    "# Postfix(스택계산기)\n",
    "def Calculate(tokens):\n",
    "    _stack = []; lv, rv = '',''\n",
    "    for v in tokens:\n",
    "        if(not v.isnumeric()):\n",
    "            lv = float(_stack.pop(-2))\n",
    "            rv = float(_stack.pop(-1))\n",
    "            if(v == '+'):\n",
    "                _stack.append(lv+rv)\n",
    "            elif(v == '-'):\n",
    "                _stack.append(lv-rv)\n",
    "            elif(v == '*'):\n",
    "                _stack.append(lv*rv)\n",
    "            elif(v == '/'):\n",
    "                try:\n",
    "                    _stack.append(lv/rv)\n",
    "                except:\n",
    "                    print(\"ZeroDivisionError: division by zero: \", end='')\n",
    "                    return [lv, v, rv]\n",
    "        else:\n",
    "            _stack.append(v)\n",
    "            \n",
    "    return _stack.pop()\n",
    "\n",
    "\n",
    "print(Calculate([\"2\", \"3\", \"5\", \"*\", \"+\", \"7\", \"-\"]))\n",
    "print(Calculate([\"2\", \"3\", \"5\", \"*\", \"+\", \"7\", \"-\", \"0\", \"/\"]))"
   ]
  },
  {
   "cell_type": "code",
   "execution_count": 278,
   "metadata": {},
   "outputs": [
    {
     "name": "stdout",
     "output_type": "stream",
     "text": [
      "[['A', 'C'], ['A', 'B'], ['C', 'B'], ['A', 'C'], ['B', 'A'], ['B', 'C'], ['A', 'C']]\n"
     ]
    }
   ],
   "source": [
    "# Hanoi Tower\n",
    "def hanoi(src, use, dst, n):\n",
    "    result_path = []\n",
    "    if(n <= 0):\n",
    "        return result_path\n",
    "    if(n == 1):\n",
    "        result_path.append([src, dst])\n",
    "    else:\n",
    "        p1 = hanoi(src,dst,use,n-1)\n",
    "        result_path.extend(p1)\n",
    "        result_path.append([src,dst])\n",
    "        p2 = hanoi(use,src,dst,n-1)\n",
    "        result_path.extend(p2)\n",
    "\n",
    "    return result_path\n",
    "\n",
    "\n",
    "print(hanoi(\"A\", \"B\", \"C\", 3))"
   ]
  },
  {
   "cell_type": "code",
   "execution_count": 280,
   "metadata": {
    "scrolled": false
   },
   "outputs": [
    {
     "name": "stdout",
     "output_type": "stream",
     "text": [
      "=== 1 소요시간: 0.0\n",
      "=== 2 소요시간: 0.0\n",
      "=== 3 소요시간: 0.0\n",
      "=== 4 소요시간: 0.0\n",
      "=== 5 소요시간: 0.0\n",
      "=== 6 소요시간: 0.0\n",
      "=== 7 소요시간: 0.0\n",
      "=== 8 소요시간: 0.000997304916381836\n",
      "=== 9 소요시간: 0.0010008811950683594\n",
      "=== 10 소요시간: 0.0019981861114501953\n",
      "=== 11 소요시간: 0.002001523971557617\n",
      "=== 12 소요시간: 0.0059969425201416016\n",
      "=== 13 소요시간: 0.012993574142456055\n",
      "=== 14 소요시간: 0.07695460319519043\n",
      "=== 15 소요시간: 0.029006004333496094\n",
      "=== 16 소요시간: 0.07495832443237305\n",
      "=== 17 소요시간: 0.1549360752105713\n",
      "=== 18 소요시간: 0.328810453414917\n",
      "=== 19 소요시간: 0.7515714168548584\n",
      "=== 20 소요시간: 1.5737619400024414\n",
      "=== 21 소요시간: 2.9163289070129395\n",
      "=== 22 소요시간: 6.162490606307983\n",
      "=== 23 소요시간: 12.645734548568726\n",
      "=== 24 "
     ]
    },
    {
     "ename": "KeyboardInterrupt",
     "evalue": "",
     "output_type": "error",
     "traceback": [
      "\u001b[1;31m---------------------------------------------------------------------------\u001b[0m",
      "\u001b[1;31mKeyboardInterrupt\u001b[0m                         Traceback (most recent call last)",
      "\u001b[1;32m<ipython-input-280-917fa4b31533>\u001b[0m in \u001b[0;36m<module>\u001b[1;34m\u001b[0m\n\u001b[0;32m     10\u001b[0m \u001b[1;33m\u001b[0m\u001b[0m\n\u001b[0;32m     11\u001b[0m \u001b[1;32mfor\u001b[0m \u001b[0mi\u001b[0m \u001b[1;32min\u001b[0m \u001b[0mrange\u001b[0m\u001b[1;33m(\u001b[0m\u001b[1;36m1\u001b[0m\u001b[1;33m,\u001b[0m\u001b[1;36m32\u001b[0m\u001b[1;33m)\u001b[0m\u001b[1;33m:\u001b[0m\u001b[1;33m\u001b[0m\u001b[1;33m\u001b[0m\u001b[0m\n\u001b[1;32m---> 12\u001b[1;33m     \u001b[0mtest_case\u001b[0m\u001b[1;33m(\u001b[0m\u001b[0mi\u001b[0m\u001b[1;33m)\u001b[0m\u001b[1;33m\u001b[0m\u001b[1;33m\u001b[0m\u001b[0m\n\u001b[0m",
      "\u001b[1;32m<ipython-input-280-917fa4b31533>\u001b[0m in \u001b[0;36mtest_case\u001b[1;34m(n)\u001b[0m\n\u001b[0;32m      5\u001b[0m     \u001b[0mprint\u001b[0m\u001b[1;33m(\u001b[0m\u001b[1;34m\"===\"\u001b[0m\u001b[1;33m,\u001b[0m\u001b[0mn\u001b[0m\u001b[1;33m,\u001b[0m\u001b[0mend\u001b[0m\u001b[1;33m=\u001b[0m\u001b[1;34m' '\u001b[0m\u001b[1;33m)\u001b[0m\u001b[1;33m\u001b[0m\u001b[1;33m\u001b[0m\u001b[0m\n\u001b[0;32m      6\u001b[0m     \u001b[0mstart\u001b[0m \u001b[1;33m=\u001b[0m \u001b[0mtime\u001b[0m\u001b[1;33m.\u001b[0m\u001b[0mtime\u001b[0m\u001b[1;33m(\u001b[0m\u001b[1;33m)\u001b[0m\u001b[1;33m\u001b[0m\u001b[1;33m\u001b[0m\u001b[0m\n\u001b[1;32m----> 7\u001b[1;33m     \u001b[0mhanoi\u001b[0m\u001b[1;33m(\u001b[0m\u001b[1;34m\"a\"\u001b[0m\u001b[1;33m,\u001b[0m\u001b[1;34m\"b\"\u001b[0m\u001b[1;33m,\u001b[0m\u001b[1;34m\"c\"\u001b[0m\u001b[1;33m,\u001b[0m\u001b[0mn\u001b[0m\u001b[1;33m)\u001b[0m\u001b[1;33m\u001b[0m\u001b[1;33m\u001b[0m\u001b[0m\n\u001b[0m\u001b[0;32m      8\u001b[0m     \u001b[0mend\u001b[0m \u001b[1;33m=\u001b[0m \u001b[0mtime\u001b[0m\u001b[1;33m.\u001b[0m\u001b[0mtime\u001b[0m\u001b[1;33m(\u001b[0m\u001b[1;33m)\u001b[0m\u001b[1;33m\u001b[0m\u001b[1;33m\u001b[0m\u001b[0m\n\u001b[0;32m      9\u001b[0m     \u001b[0mprint\u001b[0m\u001b[1;33m(\u001b[0m\u001b[1;34m\"소요시간:\"\u001b[0m\u001b[1;33m,\u001b[0m\u001b[0mend\u001b[0m\u001b[1;33m-\u001b[0m\u001b[0mstart\u001b[0m\u001b[1;33m)\u001b[0m\u001b[1;33m\u001b[0m\u001b[1;33m\u001b[0m\u001b[0m\n",
      "\u001b[1;32m<ipython-input-278-8cb1d45397d7>\u001b[0m in \u001b[0;36mhanoi\u001b[1;34m(src, use, dst, n)\u001b[0m\n\u001b[0;32m      7\u001b[0m         \u001b[0mresult_path\u001b[0m\u001b[1;33m.\u001b[0m\u001b[0mappend\u001b[0m\u001b[1;33m(\u001b[0m\u001b[1;33m[\u001b[0m\u001b[0msrc\u001b[0m\u001b[1;33m,\u001b[0m \u001b[0mdst\u001b[0m\u001b[1;33m]\u001b[0m\u001b[1;33m)\u001b[0m\u001b[1;33m\u001b[0m\u001b[1;33m\u001b[0m\u001b[0m\n\u001b[0;32m      8\u001b[0m     \u001b[1;32melse\u001b[0m\u001b[1;33m:\u001b[0m\u001b[1;33m\u001b[0m\u001b[1;33m\u001b[0m\u001b[0m\n\u001b[1;32m----> 9\u001b[1;33m         \u001b[0mp1\u001b[0m \u001b[1;33m=\u001b[0m \u001b[0mhanoi\u001b[0m\u001b[1;33m(\u001b[0m\u001b[0msrc\u001b[0m\u001b[1;33m,\u001b[0m\u001b[0mdst\u001b[0m\u001b[1;33m,\u001b[0m\u001b[0muse\u001b[0m\u001b[1;33m,\u001b[0m\u001b[0mn\u001b[0m\u001b[1;33m-\u001b[0m\u001b[1;36m1\u001b[0m\u001b[1;33m)\u001b[0m\u001b[1;33m\u001b[0m\u001b[1;33m\u001b[0m\u001b[0m\n\u001b[0m\u001b[0;32m     10\u001b[0m         \u001b[0mresult_path\u001b[0m\u001b[1;33m.\u001b[0m\u001b[0mextend\u001b[0m\u001b[1;33m(\u001b[0m\u001b[0mp1\u001b[0m\u001b[1;33m)\u001b[0m\u001b[1;33m\u001b[0m\u001b[1;33m\u001b[0m\u001b[0m\n\u001b[0;32m     11\u001b[0m         \u001b[0mresult_path\u001b[0m\u001b[1;33m.\u001b[0m\u001b[0mappend\u001b[0m\u001b[1;33m(\u001b[0m\u001b[1;33m[\u001b[0m\u001b[0msrc\u001b[0m\u001b[1;33m,\u001b[0m\u001b[0mdst\u001b[0m\u001b[1;33m]\u001b[0m\u001b[1;33m)\u001b[0m\u001b[1;33m\u001b[0m\u001b[1;33m\u001b[0m\u001b[0m\n",
      "\u001b[1;32m<ipython-input-278-8cb1d45397d7>\u001b[0m in \u001b[0;36mhanoi\u001b[1;34m(src, use, dst, n)\u001b[0m\n\u001b[0;32m      7\u001b[0m         \u001b[0mresult_path\u001b[0m\u001b[1;33m.\u001b[0m\u001b[0mappend\u001b[0m\u001b[1;33m(\u001b[0m\u001b[1;33m[\u001b[0m\u001b[0msrc\u001b[0m\u001b[1;33m,\u001b[0m \u001b[0mdst\u001b[0m\u001b[1;33m]\u001b[0m\u001b[1;33m)\u001b[0m\u001b[1;33m\u001b[0m\u001b[1;33m\u001b[0m\u001b[0m\n\u001b[0;32m      8\u001b[0m     \u001b[1;32melse\u001b[0m\u001b[1;33m:\u001b[0m\u001b[1;33m\u001b[0m\u001b[1;33m\u001b[0m\u001b[0m\n\u001b[1;32m----> 9\u001b[1;33m         \u001b[0mp1\u001b[0m \u001b[1;33m=\u001b[0m \u001b[0mhanoi\u001b[0m\u001b[1;33m(\u001b[0m\u001b[0msrc\u001b[0m\u001b[1;33m,\u001b[0m\u001b[0mdst\u001b[0m\u001b[1;33m,\u001b[0m\u001b[0muse\u001b[0m\u001b[1;33m,\u001b[0m\u001b[0mn\u001b[0m\u001b[1;33m-\u001b[0m\u001b[1;36m1\u001b[0m\u001b[1;33m)\u001b[0m\u001b[1;33m\u001b[0m\u001b[1;33m\u001b[0m\u001b[0m\n\u001b[0m\u001b[0;32m     10\u001b[0m         \u001b[0mresult_path\u001b[0m\u001b[1;33m.\u001b[0m\u001b[0mextend\u001b[0m\u001b[1;33m(\u001b[0m\u001b[0mp1\u001b[0m\u001b[1;33m)\u001b[0m\u001b[1;33m\u001b[0m\u001b[1;33m\u001b[0m\u001b[0m\n\u001b[0;32m     11\u001b[0m         \u001b[0mresult_path\u001b[0m\u001b[1;33m.\u001b[0m\u001b[0mappend\u001b[0m\u001b[1;33m(\u001b[0m\u001b[1;33m[\u001b[0m\u001b[0msrc\u001b[0m\u001b[1;33m,\u001b[0m\u001b[0mdst\u001b[0m\u001b[1;33m]\u001b[0m\u001b[1;33m)\u001b[0m\u001b[1;33m\u001b[0m\u001b[1;33m\u001b[0m\u001b[0m\n",
      "\u001b[1;32m<ipython-input-278-8cb1d45397d7>\u001b[0m in \u001b[0;36mhanoi\u001b[1;34m(src, use, dst, n)\u001b[0m\n\u001b[0;32m      7\u001b[0m         \u001b[0mresult_path\u001b[0m\u001b[1;33m.\u001b[0m\u001b[0mappend\u001b[0m\u001b[1;33m(\u001b[0m\u001b[1;33m[\u001b[0m\u001b[0msrc\u001b[0m\u001b[1;33m,\u001b[0m \u001b[0mdst\u001b[0m\u001b[1;33m]\u001b[0m\u001b[1;33m)\u001b[0m\u001b[1;33m\u001b[0m\u001b[1;33m\u001b[0m\u001b[0m\n\u001b[0;32m      8\u001b[0m     \u001b[1;32melse\u001b[0m\u001b[1;33m:\u001b[0m\u001b[1;33m\u001b[0m\u001b[1;33m\u001b[0m\u001b[0m\n\u001b[1;32m----> 9\u001b[1;33m         \u001b[0mp1\u001b[0m \u001b[1;33m=\u001b[0m \u001b[0mhanoi\u001b[0m\u001b[1;33m(\u001b[0m\u001b[0msrc\u001b[0m\u001b[1;33m,\u001b[0m\u001b[0mdst\u001b[0m\u001b[1;33m,\u001b[0m\u001b[0muse\u001b[0m\u001b[1;33m,\u001b[0m\u001b[0mn\u001b[0m\u001b[1;33m-\u001b[0m\u001b[1;36m1\u001b[0m\u001b[1;33m)\u001b[0m\u001b[1;33m\u001b[0m\u001b[1;33m\u001b[0m\u001b[0m\n\u001b[0m\u001b[0;32m     10\u001b[0m         \u001b[0mresult_path\u001b[0m\u001b[1;33m.\u001b[0m\u001b[0mextend\u001b[0m\u001b[1;33m(\u001b[0m\u001b[0mp1\u001b[0m\u001b[1;33m)\u001b[0m\u001b[1;33m\u001b[0m\u001b[1;33m\u001b[0m\u001b[0m\n\u001b[0;32m     11\u001b[0m         \u001b[0mresult_path\u001b[0m\u001b[1;33m.\u001b[0m\u001b[0mappend\u001b[0m\u001b[1;33m(\u001b[0m\u001b[1;33m[\u001b[0m\u001b[0msrc\u001b[0m\u001b[1;33m,\u001b[0m\u001b[0mdst\u001b[0m\u001b[1;33m]\u001b[0m\u001b[1;33m)\u001b[0m\u001b[1;33m\u001b[0m\u001b[1;33m\u001b[0m\u001b[0m\n",
      "\u001b[1;32m<ipython-input-278-8cb1d45397d7>\u001b[0m in \u001b[0;36mhanoi\u001b[1;34m(src, use, dst, n)\u001b[0m\n\u001b[0;32m      7\u001b[0m         \u001b[0mresult_path\u001b[0m\u001b[1;33m.\u001b[0m\u001b[0mappend\u001b[0m\u001b[1;33m(\u001b[0m\u001b[1;33m[\u001b[0m\u001b[0msrc\u001b[0m\u001b[1;33m,\u001b[0m \u001b[0mdst\u001b[0m\u001b[1;33m]\u001b[0m\u001b[1;33m)\u001b[0m\u001b[1;33m\u001b[0m\u001b[1;33m\u001b[0m\u001b[0m\n\u001b[0;32m      8\u001b[0m     \u001b[1;32melse\u001b[0m\u001b[1;33m:\u001b[0m\u001b[1;33m\u001b[0m\u001b[1;33m\u001b[0m\u001b[0m\n\u001b[1;32m----> 9\u001b[1;33m         \u001b[0mp1\u001b[0m \u001b[1;33m=\u001b[0m \u001b[0mhanoi\u001b[0m\u001b[1;33m(\u001b[0m\u001b[0msrc\u001b[0m\u001b[1;33m,\u001b[0m\u001b[0mdst\u001b[0m\u001b[1;33m,\u001b[0m\u001b[0muse\u001b[0m\u001b[1;33m,\u001b[0m\u001b[0mn\u001b[0m\u001b[1;33m-\u001b[0m\u001b[1;36m1\u001b[0m\u001b[1;33m)\u001b[0m\u001b[1;33m\u001b[0m\u001b[1;33m\u001b[0m\u001b[0m\n\u001b[0m\u001b[0;32m     10\u001b[0m         \u001b[0mresult_path\u001b[0m\u001b[1;33m.\u001b[0m\u001b[0mextend\u001b[0m\u001b[1;33m(\u001b[0m\u001b[0mp1\u001b[0m\u001b[1;33m)\u001b[0m\u001b[1;33m\u001b[0m\u001b[1;33m\u001b[0m\u001b[0m\n\u001b[0;32m     11\u001b[0m         \u001b[0mresult_path\u001b[0m\u001b[1;33m.\u001b[0m\u001b[0mappend\u001b[0m\u001b[1;33m(\u001b[0m\u001b[1;33m[\u001b[0m\u001b[0msrc\u001b[0m\u001b[1;33m,\u001b[0m\u001b[0mdst\u001b[0m\u001b[1;33m]\u001b[0m\u001b[1;33m)\u001b[0m\u001b[1;33m\u001b[0m\u001b[1;33m\u001b[0m\u001b[0m\n",
      "\u001b[1;32m<ipython-input-278-8cb1d45397d7>\u001b[0m in \u001b[0;36mhanoi\u001b[1;34m(src, use, dst, n)\u001b[0m\n\u001b[0;32m      7\u001b[0m         \u001b[0mresult_path\u001b[0m\u001b[1;33m.\u001b[0m\u001b[0mappend\u001b[0m\u001b[1;33m(\u001b[0m\u001b[1;33m[\u001b[0m\u001b[0msrc\u001b[0m\u001b[1;33m,\u001b[0m \u001b[0mdst\u001b[0m\u001b[1;33m]\u001b[0m\u001b[1;33m)\u001b[0m\u001b[1;33m\u001b[0m\u001b[1;33m\u001b[0m\u001b[0m\n\u001b[0;32m      8\u001b[0m     \u001b[1;32melse\u001b[0m\u001b[1;33m:\u001b[0m\u001b[1;33m\u001b[0m\u001b[1;33m\u001b[0m\u001b[0m\n\u001b[1;32m----> 9\u001b[1;33m         \u001b[0mp1\u001b[0m \u001b[1;33m=\u001b[0m \u001b[0mhanoi\u001b[0m\u001b[1;33m(\u001b[0m\u001b[0msrc\u001b[0m\u001b[1;33m,\u001b[0m\u001b[0mdst\u001b[0m\u001b[1;33m,\u001b[0m\u001b[0muse\u001b[0m\u001b[1;33m,\u001b[0m\u001b[0mn\u001b[0m\u001b[1;33m-\u001b[0m\u001b[1;36m1\u001b[0m\u001b[1;33m)\u001b[0m\u001b[1;33m\u001b[0m\u001b[1;33m\u001b[0m\u001b[0m\n\u001b[0m\u001b[0;32m     10\u001b[0m         \u001b[0mresult_path\u001b[0m\u001b[1;33m.\u001b[0m\u001b[0mextend\u001b[0m\u001b[1;33m(\u001b[0m\u001b[0mp1\u001b[0m\u001b[1;33m)\u001b[0m\u001b[1;33m\u001b[0m\u001b[1;33m\u001b[0m\u001b[0m\n\u001b[0;32m     11\u001b[0m         \u001b[0mresult_path\u001b[0m\u001b[1;33m.\u001b[0m\u001b[0mappend\u001b[0m\u001b[1;33m(\u001b[0m\u001b[1;33m[\u001b[0m\u001b[0msrc\u001b[0m\u001b[1;33m,\u001b[0m\u001b[0mdst\u001b[0m\u001b[1;33m]\u001b[0m\u001b[1;33m)\u001b[0m\u001b[1;33m\u001b[0m\u001b[1;33m\u001b[0m\u001b[0m\n",
      "\u001b[1;32m<ipython-input-278-8cb1d45397d7>\u001b[0m in \u001b[0;36mhanoi\u001b[1;34m(src, use, dst, n)\u001b[0m\n\u001b[0;32m     10\u001b[0m         \u001b[0mresult_path\u001b[0m\u001b[1;33m.\u001b[0m\u001b[0mextend\u001b[0m\u001b[1;33m(\u001b[0m\u001b[0mp1\u001b[0m\u001b[1;33m)\u001b[0m\u001b[1;33m\u001b[0m\u001b[1;33m\u001b[0m\u001b[0m\n\u001b[0;32m     11\u001b[0m         \u001b[0mresult_path\u001b[0m\u001b[1;33m.\u001b[0m\u001b[0mappend\u001b[0m\u001b[1;33m(\u001b[0m\u001b[1;33m[\u001b[0m\u001b[0msrc\u001b[0m\u001b[1;33m,\u001b[0m\u001b[0mdst\u001b[0m\u001b[1;33m]\u001b[0m\u001b[1;33m)\u001b[0m\u001b[1;33m\u001b[0m\u001b[1;33m\u001b[0m\u001b[0m\n\u001b[1;32m---> 12\u001b[1;33m         \u001b[0mp2\u001b[0m \u001b[1;33m=\u001b[0m \u001b[0mhanoi\u001b[0m\u001b[1;33m(\u001b[0m\u001b[0muse\u001b[0m\u001b[1;33m,\u001b[0m\u001b[0msrc\u001b[0m\u001b[1;33m,\u001b[0m\u001b[0mdst\u001b[0m\u001b[1;33m,\u001b[0m\u001b[0mn\u001b[0m\u001b[1;33m-\u001b[0m\u001b[1;36m1\u001b[0m\u001b[1;33m)\u001b[0m\u001b[1;33m\u001b[0m\u001b[1;33m\u001b[0m\u001b[0m\n\u001b[0m\u001b[0;32m     13\u001b[0m         \u001b[0mresult_path\u001b[0m\u001b[1;33m.\u001b[0m\u001b[0mextend\u001b[0m\u001b[1;33m(\u001b[0m\u001b[0mp2\u001b[0m\u001b[1;33m)\u001b[0m\u001b[1;33m\u001b[0m\u001b[1;33m\u001b[0m\u001b[0m\n\u001b[0;32m     14\u001b[0m \u001b[1;33m\u001b[0m\u001b[0m\n",
      "\u001b[1;32m<ipython-input-278-8cb1d45397d7>\u001b[0m in \u001b[0;36mhanoi\u001b[1;34m(src, use, dst, n)\u001b[0m\n\u001b[0;32m      7\u001b[0m         \u001b[0mresult_path\u001b[0m\u001b[1;33m.\u001b[0m\u001b[0mappend\u001b[0m\u001b[1;33m(\u001b[0m\u001b[1;33m[\u001b[0m\u001b[0msrc\u001b[0m\u001b[1;33m,\u001b[0m \u001b[0mdst\u001b[0m\u001b[1;33m]\u001b[0m\u001b[1;33m)\u001b[0m\u001b[1;33m\u001b[0m\u001b[1;33m\u001b[0m\u001b[0m\n\u001b[0;32m      8\u001b[0m     \u001b[1;32melse\u001b[0m\u001b[1;33m:\u001b[0m\u001b[1;33m\u001b[0m\u001b[1;33m\u001b[0m\u001b[0m\n\u001b[1;32m----> 9\u001b[1;33m         \u001b[0mp1\u001b[0m \u001b[1;33m=\u001b[0m \u001b[0mhanoi\u001b[0m\u001b[1;33m(\u001b[0m\u001b[0msrc\u001b[0m\u001b[1;33m,\u001b[0m\u001b[0mdst\u001b[0m\u001b[1;33m,\u001b[0m\u001b[0muse\u001b[0m\u001b[1;33m,\u001b[0m\u001b[0mn\u001b[0m\u001b[1;33m-\u001b[0m\u001b[1;36m1\u001b[0m\u001b[1;33m)\u001b[0m\u001b[1;33m\u001b[0m\u001b[1;33m\u001b[0m\u001b[0m\n\u001b[0m\u001b[0;32m     10\u001b[0m         \u001b[0mresult_path\u001b[0m\u001b[1;33m.\u001b[0m\u001b[0mextend\u001b[0m\u001b[1;33m(\u001b[0m\u001b[0mp1\u001b[0m\u001b[1;33m)\u001b[0m\u001b[1;33m\u001b[0m\u001b[1;33m\u001b[0m\u001b[0m\n\u001b[0;32m     11\u001b[0m         \u001b[0mresult_path\u001b[0m\u001b[1;33m.\u001b[0m\u001b[0mappend\u001b[0m\u001b[1;33m(\u001b[0m\u001b[1;33m[\u001b[0m\u001b[0msrc\u001b[0m\u001b[1;33m,\u001b[0m\u001b[0mdst\u001b[0m\u001b[1;33m]\u001b[0m\u001b[1;33m)\u001b[0m\u001b[1;33m\u001b[0m\u001b[1;33m\u001b[0m\u001b[0m\n",
      "\u001b[1;32m<ipython-input-278-8cb1d45397d7>\u001b[0m in \u001b[0;36mhanoi\u001b[1;34m(src, use, dst, n)\u001b[0m\n\u001b[0;32m     10\u001b[0m         \u001b[0mresult_path\u001b[0m\u001b[1;33m.\u001b[0m\u001b[0mextend\u001b[0m\u001b[1;33m(\u001b[0m\u001b[0mp1\u001b[0m\u001b[1;33m)\u001b[0m\u001b[1;33m\u001b[0m\u001b[1;33m\u001b[0m\u001b[0m\n\u001b[0;32m     11\u001b[0m         \u001b[0mresult_path\u001b[0m\u001b[1;33m.\u001b[0m\u001b[0mappend\u001b[0m\u001b[1;33m(\u001b[0m\u001b[1;33m[\u001b[0m\u001b[0msrc\u001b[0m\u001b[1;33m,\u001b[0m\u001b[0mdst\u001b[0m\u001b[1;33m]\u001b[0m\u001b[1;33m)\u001b[0m\u001b[1;33m\u001b[0m\u001b[1;33m\u001b[0m\u001b[0m\n\u001b[1;32m---> 12\u001b[1;33m         \u001b[0mp2\u001b[0m \u001b[1;33m=\u001b[0m \u001b[0mhanoi\u001b[0m\u001b[1;33m(\u001b[0m\u001b[0muse\u001b[0m\u001b[1;33m,\u001b[0m\u001b[0msrc\u001b[0m\u001b[1;33m,\u001b[0m\u001b[0mdst\u001b[0m\u001b[1;33m,\u001b[0m\u001b[0mn\u001b[0m\u001b[1;33m-\u001b[0m\u001b[1;36m1\u001b[0m\u001b[1;33m)\u001b[0m\u001b[1;33m\u001b[0m\u001b[1;33m\u001b[0m\u001b[0m\n\u001b[0m\u001b[0;32m     13\u001b[0m         \u001b[0mresult_path\u001b[0m\u001b[1;33m.\u001b[0m\u001b[0mextend\u001b[0m\u001b[1;33m(\u001b[0m\u001b[0mp2\u001b[0m\u001b[1;33m)\u001b[0m\u001b[1;33m\u001b[0m\u001b[1;33m\u001b[0m\u001b[0m\n\u001b[0;32m     14\u001b[0m \u001b[1;33m\u001b[0m\u001b[0m\n",
      "\u001b[1;32m<ipython-input-278-8cb1d45397d7>\u001b[0m in \u001b[0;36mhanoi\u001b[1;34m(src, use, dst, n)\u001b[0m\n\u001b[0;32m      7\u001b[0m         \u001b[0mresult_path\u001b[0m\u001b[1;33m.\u001b[0m\u001b[0mappend\u001b[0m\u001b[1;33m(\u001b[0m\u001b[1;33m[\u001b[0m\u001b[0msrc\u001b[0m\u001b[1;33m,\u001b[0m \u001b[0mdst\u001b[0m\u001b[1;33m]\u001b[0m\u001b[1;33m)\u001b[0m\u001b[1;33m\u001b[0m\u001b[1;33m\u001b[0m\u001b[0m\n\u001b[0;32m      8\u001b[0m     \u001b[1;32melse\u001b[0m\u001b[1;33m:\u001b[0m\u001b[1;33m\u001b[0m\u001b[1;33m\u001b[0m\u001b[0m\n\u001b[1;32m----> 9\u001b[1;33m         \u001b[0mp1\u001b[0m \u001b[1;33m=\u001b[0m \u001b[0mhanoi\u001b[0m\u001b[1;33m(\u001b[0m\u001b[0msrc\u001b[0m\u001b[1;33m,\u001b[0m\u001b[0mdst\u001b[0m\u001b[1;33m,\u001b[0m\u001b[0muse\u001b[0m\u001b[1;33m,\u001b[0m\u001b[0mn\u001b[0m\u001b[1;33m-\u001b[0m\u001b[1;36m1\u001b[0m\u001b[1;33m)\u001b[0m\u001b[1;33m\u001b[0m\u001b[1;33m\u001b[0m\u001b[0m\n\u001b[0m\u001b[0;32m     10\u001b[0m         \u001b[0mresult_path\u001b[0m\u001b[1;33m.\u001b[0m\u001b[0mextend\u001b[0m\u001b[1;33m(\u001b[0m\u001b[0mp1\u001b[0m\u001b[1;33m)\u001b[0m\u001b[1;33m\u001b[0m\u001b[1;33m\u001b[0m\u001b[0m\n\u001b[0;32m     11\u001b[0m         \u001b[0mresult_path\u001b[0m\u001b[1;33m.\u001b[0m\u001b[0mappend\u001b[0m\u001b[1;33m(\u001b[0m\u001b[1;33m[\u001b[0m\u001b[0msrc\u001b[0m\u001b[1;33m,\u001b[0m\u001b[0mdst\u001b[0m\u001b[1;33m]\u001b[0m\u001b[1;33m)\u001b[0m\u001b[1;33m\u001b[0m\u001b[1;33m\u001b[0m\u001b[0m\n",
      "\u001b[1;32m<ipython-input-278-8cb1d45397d7>\u001b[0m in \u001b[0;36mhanoi\u001b[1;34m(src, use, dst, n)\u001b[0m\n\u001b[0;32m     10\u001b[0m         \u001b[0mresult_path\u001b[0m\u001b[1;33m.\u001b[0m\u001b[0mextend\u001b[0m\u001b[1;33m(\u001b[0m\u001b[0mp1\u001b[0m\u001b[1;33m)\u001b[0m\u001b[1;33m\u001b[0m\u001b[1;33m\u001b[0m\u001b[0m\n\u001b[0;32m     11\u001b[0m         \u001b[0mresult_path\u001b[0m\u001b[1;33m.\u001b[0m\u001b[0mappend\u001b[0m\u001b[1;33m(\u001b[0m\u001b[1;33m[\u001b[0m\u001b[0msrc\u001b[0m\u001b[1;33m,\u001b[0m\u001b[0mdst\u001b[0m\u001b[1;33m]\u001b[0m\u001b[1;33m)\u001b[0m\u001b[1;33m\u001b[0m\u001b[1;33m\u001b[0m\u001b[0m\n\u001b[1;32m---> 12\u001b[1;33m         \u001b[0mp2\u001b[0m \u001b[1;33m=\u001b[0m \u001b[0mhanoi\u001b[0m\u001b[1;33m(\u001b[0m\u001b[0muse\u001b[0m\u001b[1;33m,\u001b[0m\u001b[0msrc\u001b[0m\u001b[1;33m,\u001b[0m\u001b[0mdst\u001b[0m\u001b[1;33m,\u001b[0m\u001b[0mn\u001b[0m\u001b[1;33m-\u001b[0m\u001b[1;36m1\u001b[0m\u001b[1;33m)\u001b[0m\u001b[1;33m\u001b[0m\u001b[1;33m\u001b[0m\u001b[0m\n\u001b[0m\u001b[0;32m     13\u001b[0m         \u001b[0mresult_path\u001b[0m\u001b[1;33m.\u001b[0m\u001b[0mextend\u001b[0m\u001b[1;33m(\u001b[0m\u001b[0mp2\u001b[0m\u001b[1;33m)\u001b[0m\u001b[1;33m\u001b[0m\u001b[1;33m\u001b[0m\u001b[0m\n\u001b[0;32m     14\u001b[0m \u001b[1;33m\u001b[0m\u001b[0m\n",
      "\u001b[1;32m<ipython-input-278-8cb1d45397d7>\u001b[0m in \u001b[0;36mhanoi\u001b[1;34m(src, use, dst, n)\u001b[0m\n\u001b[0;32m      7\u001b[0m         \u001b[0mresult_path\u001b[0m\u001b[1;33m.\u001b[0m\u001b[0mappend\u001b[0m\u001b[1;33m(\u001b[0m\u001b[1;33m[\u001b[0m\u001b[0msrc\u001b[0m\u001b[1;33m,\u001b[0m \u001b[0mdst\u001b[0m\u001b[1;33m]\u001b[0m\u001b[1;33m)\u001b[0m\u001b[1;33m\u001b[0m\u001b[1;33m\u001b[0m\u001b[0m\n\u001b[0;32m      8\u001b[0m     \u001b[1;32melse\u001b[0m\u001b[1;33m:\u001b[0m\u001b[1;33m\u001b[0m\u001b[1;33m\u001b[0m\u001b[0m\n\u001b[1;32m----> 9\u001b[1;33m         \u001b[0mp1\u001b[0m \u001b[1;33m=\u001b[0m \u001b[0mhanoi\u001b[0m\u001b[1;33m(\u001b[0m\u001b[0msrc\u001b[0m\u001b[1;33m,\u001b[0m\u001b[0mdst\u001b[0m\u001b[1;33m,\u001b[0m\u001b[0muse\u001b[0m\u001b[1;33m,\u001b[0m\u001b[0mn\u001b[0m\u001b[1;33m-\u001b[0m\u001b[1;36m1\u001b[0m\u001b[1;33m)\u001b[0m\u001b[1;33m\u001b[0m\u001b[1;33m\u001b[0m\u001b[0m\n\u001b[0m\u001b[0;32m     10\u001b[0m         \u001b[0mresult_path\u001b[0m\u001b[1;33m.\u001b[0m\u001b[0mextend\u001b[0m\u001b[1;33m(\u001b[0m\u001b[0mp1\u001b[0m\u001b[1;33m)\u001b[0m\u001b[1;33m\u001b[0m\u001b[1;33m\u001b[0m\u001b[0m\n\u001b[0;32m     11\u001b[0m         \u001b[0mresult_path\u001b[0m\u001b[1;33m.\u001b[0m\u001b[0mappend\u001b[0m\u001b[1;33m(\u001b[0m\u001b[1;33m[\u001b[0m\u001b[0msrc\u001b[0m\u001b[1;33m,\u001b[0m\u001b[0mdst\u001b[0m\u001b[1;33m]\u001b[0m\u001b[1;33m)\u001b[0m\u001b[1;33m\u001b[0m\u001b[1;33m\u001b[0m\u001b[0m\n",
      "\u001b[1;32m<ipython-input-278-8cb1d45397d7>\u001b[0m in \u001b[0;36mhanoi\u001b[1;34m(src, use, dst, n)\u001b[0m\n\u001b[0;32m     11\u001b[0m         \u001b[0mresult_path\u001b[0m\u001b[1;33m.\u001b[0m\u001b[0mappend\u001b[0m\u001b[1;33m(\u001b[0m\u001b[1;33m[\u001b[0m\u001b[0msrc\u001b[0m\u001b[1;33m,\u001b[0m\u001b[0mdst\u001b[0m\u001b[1;33m]\u001b[0m\u001b[1;33m)\u001b[0m\u001b[1;33m\u001b[0m\u001b[1;33m\u001b[0m\u001b[0m\n\u001b[0;32m     12\u001b[0m         \u001b[0mp2\u001b[0m \u001b[1;33m=\u001b[0m \u001b[0mhanoi\u001b[0m\u001b[1;33m(\u001b[0m\u001b[0muse\u001b[0m\u001b[1;33m,\u001b[0m\u001b[0msrc\u001b[0m\u001b[1;33m,\u001b[0m\u001b[0mdst\u001b[0m\u001b[1;33m,\u001b[0m\u001b[0mn\u001b[0m\u001b[1;33m-\u001b[0m\u001b[1;36m1\u001b[0m\u001b[1;33m)\u001b[0m\u001b[1;33m\u001b[0m\u001b[1;33m\u001b[0m\u001b[0m\n\u001b[1;32m---> 13\u001b[1;33m         \u001b[0mresult_path\u001b[0m\u001b[1;33m.\u001b[0m\u001b[0mextend\u001b[0m\u001b[1;33m(\u001b[0m\u001b[0mp2\u001b[0m\u001b[1;33m)\u001b[0m\u001b[1;33m\u001b[0m\u001b[1;33m\u001b[0m\u001b[0m\n\u001b[0m\u001b[0;32m     14\u001b[0m \u001b[1;33m\u001b[0m\u001b[0m\n\u001b[0;32m     15\u001b[0m     \u001b[1;32mreturn\u001b[0m \u001b[0mresult_path\u001b[0m\u001b[1;33m\u001b[0m\u001b[1;33m\u001b[0m\u001b[0m\n",
      "\u001b[1;31mKeyboardInterrupt\u001b[0m: "
     ]
    }
   ],
   "source": [
    "# test case\n",
    "import time\n",
    "\n",
    "def test_case(n):\n",
    "    print(\"===\",n,end=' ')\n",
    "    start = time.time()\n",
    "    hanoi(\"a\",\"b\",\"c\",n)\n",
    "    end = time.time()\n",
    "    print(\"소요시간:\",end-start)\n",
    "\n",
    "for i in range(1,32):\n",
    "    test_case(i)"
   ]
  }
 ],
 "metadata": {
  "kernelspec": {
   "display_name": "Python 3",
   "language": "python",
   "name": "python3"
  },
  "language_info": {
   "codemirror_mode": {
    "name": "ipython",
    "version": 3
   },
   "file_extension": ".py",
   "mimetype": "text/x-python",
   "name": "python",
   "nbconvert_exporter": "python",
   "pygments_lexer": "ipython3",
   "version": "3.8.11"
  },
  "toc": {
   "base_numbering": 1,
   "nav_menu": {},
   "number_sections": false,
   "sideBar": false,
   "skip_h1_title": false,
   "title_cell": "Table of Contents",
   "title_sidebar": "Contents",
   "toc_cell": true,
   "toc_position": {},
   "toc_section_display": true,
   "toc_window_display": false
  },
  "varInspector": {
   "cols": {
    "lenName": 16,
    "lenType": 16,
    "lenVar": 40
   },
   "kernels_config": {
    "python": {
     "delete_cmd_postfix": "",
     "delete_cmd_prefix": "del ",
     "library": "var_list.py",
     "varRefreshCmd": "print(var_dic_list())"
    },
    "r": {
     "delete_cmd_postfix": ") ",
     "delete_cmd_prefix": "rm(",
     "library": "var_list.r",
     "varRefreshCmd": "cat(var_dic_list()) "
    }
   },
   "types_to_exclude": [
    "module",
    "function",
    "builtin_function_or_method",
    "instance",
    "_Feature"
   ],
   "window_display": false
  }
 },
 "nbformat": 4,
 "nbformat_minor": 4
}
