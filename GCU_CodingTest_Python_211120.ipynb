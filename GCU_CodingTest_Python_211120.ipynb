{
 "cells": [
  {
   "cell_type": "markdown",
   "id": "33e7275f",
   "metadata": {
    "toc": true
   },
   "source": [
    "<h1>Table of Contents<span class=\"tocSkip\"></span></h1>\n",
    "<div class=\"toc\"><ul class=\"toc-item\"><li><span><a href=\"#균형-원소-찾기---시나리오-및-입출력\" data-toc-modified-id=\"균형-원소-찾기---시나리오-및-입출력-1\"><span class=\"toc-item-num\">1&nbsp;&nbsp;</span>균형 원소 찾기 - 시나리오 및 입출력</a></span></li><li><span><a href=\"#회문(Palindrome)-판별\" data-toc-modified-id=\"회문(Palindrome)-판별-2\"><span class=\"toc-item-num\">2&nbsp;&nbsp;</span>회문(Palindrome) 판별</a></span></li><li><span><a href=\"#완전수\" data-toc-modified-id=\"완전수-3\"><span class=\"toc-item-num\">3&nbsp;&nbsp;</span>완전수</a></span></li><li><span><a href=\"#n진수-게임\" data-toc-modified-id=\"n진수-게임-4\"><span class=\"toc-item-num\">4&nbsp;&nbsp;</span>n진수 게임</a></span></li><li><span><a href=\"#로마숫자를-정수로\" data-toc-modified-id=\"로마숫자를-정수로-5\"><span class=\"toc-item-num\">5&nbsp;&nbsp;</span>로마숫자를 정수로</a></span></li><li><span><a href=\"#카이사르-암호\" data-toc-modified-id=\"카이사르-암호-6\"><span class=\"toc-item-num\">6&nbsp;&nbsp;</span>카이사르 암호</a></span></li><li><span><a href=\"#이진탐색\" data-toc-modified-id=\"이진탐색-7\"><span class=\"toc-item-num\">7&nbsp;&nbsp;</span>이진탐색</a></span></li><li><span><a href=\"#후위-표기-수식-계산(스택계산기)\" data-toc-modified-id=\"후위-표기-수식-계산(스택계산기)-8\"><span class=\"toc-item-num\">8&nbsp;&nbsp;</span>후위 표기 수식 계산(스택계산기)</a></span></li><li><span><a href=\"#하노이-타워\" data-toc-modified-id=\"하노이-타워-9\"><span class=\"toc-item-num\">9&nbsp;&nbsp;</span>하노이 타워</a></span></li><li><span><a href=\"#BFS-알고리즘\" data-toc-modified-id=\"BFS-알고리즘-10\"><span class=\"toc-item-num\">10&nbsp;&nbsp;</span>BFS 알고리즘</a></span></li><li><span><a href=\"#미로에서-경로-찾기(DFS알고리즘)\" data-toc-modified-id=\"미로에서-경로-찾기(DFS알고리즘)-11\"><span class=\"toc-item-num\">11&nbsp;&nbsp;</span>미로에서 경로 찾기(DFS알고리즘)</a></span></li><li><span><a href=\"#피보나치-수열(DP)\" data-toc-modified-id=\"피보나치-수열(DP)-12\"><span class=\"toc-item-num\">12&nbsp;&nbsp;</span>피보나치 수열(DP)</a></span></li></ul></div>"
   ]
  },
  {
   "cell_type": "markdown",
   "id": "cb29879b",
   "metadata": {},
   "source": [
    "# 균형 원소 찾기 - 시나리오 및 입출력"
   ]
  },
  {
   "cell_type": "code",
   "execution_count": 140,
   "id": "9a0b0254",
   "metadata": {
    "ExecuteTime": {
     "end_time": "2021-11-20T06:41:54.631774Z",
     "start_time": "2021-11-20T06:41:54.614797Z"
    }
   },
   "outputs": [
    {
     "name": "stdout",
     "output_type": "stream",
     "text": [
      "[4, 5, 10]\n",
      "[2, 30, 30]\n",
      "[]\n",
      "[0, 1, 0]\n",
      "[]\n",
      "[]\n"
     ]
    }
   ],
   "source": [
    "def FindBalance(nums):\n",
    "    n = len(nums)//2; flag = 0\n",
    "    while nums:\n",
    "        if( (l:=sum(nums[:n])) == (r:=sum(nums[n+1:])) ):\n",
    "            return [n, nums[n], l]\n",
    "        if(l > r):\n",
    "            if(flag==1): return []\n",
    "            flag = -1; n -= 1\n",
    "        else:\n",
    "            if(flag==-1): return []\n",
    "            flag = 1; n += 1\n",
    "    return []\n",
    "\n",
    "\n",
    "print(FindBalance([1,2,3,4,5,2,3,5]))\n",
    "print(FindBalance([10,20,30,30]))\n",
    "print(FindBalance([]))\n",
    "print(FindBalance([1]))\n",
    "print(FindBalance([2,2,3,2]))\n",
    "print(FindBalance([2,2]))"
   ]
  },
  {
   "cell_type": "markdown",
   "id": "a542409c",
   "metadata": {},
   "source": [
    "# 회문(Palindrome) 판별"
   ]
  },
  {
   "cell_type": "code",
   "execution_count": 6,
   "id": "e7366908",
   "metadata": {
    "ExecuteTime": {
     "end_time": "2021-11-20T01:22:39.325008Z",
     "start_time": "2021-11-20T01:22:39.313016Z"
    }
   },
   "outputs": [
    {
     "name": "stdout",
     "output_type": "stream",
     "text": [
      "[True, True, False, True]\n",
      "[]\n",
      "[True]\n"
     ]
    }
   ],
   "source": [
    "def IsPalindromes(texts):\n",
    "    res = []\n",
    "    for t in texts:\n",
    "        tmp = [ x.lower() for x in t if(x.isalpha()) ]\n",
    "        res.append(True if(tmp == tmp[::-1]) else False)\n",
    "    return res\n",
    "\n",
    "\n",
    "texts = [\"Madam,I'mAdam.\", \"rotator\", \"Hello\", \"nurses run\"]\n",
    "print(IsPalindromes(texts))\n",
    "print(IsPalindromes([]))\n",
    "print(IsPalindromes([\"a\"]))"
   ]
  },
  {
   "cell_type": "markdown",
   "id": "3f439b46",
   "metadata": {},
   "source": [
    "# 완전수"
   ]
  },
  {
   "cell_type": "code",
   "execution_count": 16,
   "id": "8adc5a05",
   "metadata": {
    "ExecuteTime": {
     "end_time": "2021-11-20T01:58:36.214128Z",
     "start_time": "2021-11-20T01:58:32.985993Z"
    }
   },
   "outputs": [
    {
     "name": "stdout",
     "output_type": "stream",
     "text": [
      "[6]\n",
      "[6, 28]\n",
      "[6, 28, 496, 8128]\n"
     ]
    }
   ],
   "source": [
    "def perfect(nums):\n",
    "    res = []\n",
    "    for n in nums:\n",
    "        if(n<6): continue;\n",
    "        tmp = 1\n",
    "        for i in range(2, n//2+1):\n",
    "            if(n%i==0): tmp += i\n",
    "        if(tmp == n): res.append(n)\n",
    "    return res\n",
    "\n",
    "    \n",
    "print(perfect([1,5,3,6,8,34]))\n",
    "print(perfect([1,2,6,7,28,34]))\n",
    "print(perfect([x for x in range(10000)]))"
   ]
  },
  {
   "cell_type": "markdown",
   "id": "6fe134d2",
   "metadata": {},
   "source": [
    "# n진수 게임"
   ]
  },
  {
   "cell_type": "code",
   "execution_count": 70,
   "id": "2fbf07a3",
   "metadata": {
    "ExecuteTime": {
     "end_time": "2021-11-20T03:29:14.677368Z",
     "start_time": "2021-11-20T03:29:14.652406Z"
    }
   },
   "outputs": [
    {
     "name": "stdout",
     "output_type": "stream",
     "text": [
      "0111\n",
      "02468ACE\n"
     ]
    }
   ],
   "source": [
    "import string\n",
    "\n",
    "maps = string.digits+string.ascii_uppercase\n",
    "def convert(num, base) :\n",
    "    res = ''\n",
    "    while num>0:\n",
    "        num, m = divmod(num, base)\n",
    "        res += maps[m]\n",
    "    return res[::-1]\n",
    "\n",
    "def solution(n,t,m,p):\n",
    "    myturn, tmp = [], '0'\n",
    "    for i in range(t*m):\n",
    "        tmp += convert(i, n)\n",
    "        if((i-1)%m == p): myturn.append(i)\n",
    "            \n",
    "    res = ''\n",
    "    for i in myturn:\n",
    "        res += tmp[i]\n",
    "    return res\n",
    "\n",
    "\n",
    "print(solution(2,4,2,1))\n",
    "print(solution(16,8,2,1))"
   ]
  },
  {
   "cell_type": "markdown",
   "id": "20815c23",
   "metadata": {},
   "source": [
    "# 로마숫자를 정수로"
   ]
  },
  {
   "cell_type": "code",
   "execution_count": 101,
   "id": "8e5841f0",
   "metadata": {
    "ExecuteTime": {
     "end_time": "2021-11-20T05:37:58.130028Z",
     "start_time": "2021-11-20T05:37:58.106017Z"
    }
   },
   "outputs": [
    {
     "name": "stdout",
     "output_type": "stream",
     "text": [
      "1994\n"
     ]
    }
   ],
   "source": [
    "roman_dict = {'I':1, 'V':5, 'X':10, 'L':50, 'C':100, 'D':500, 'M':1000}\n",
    "def roman_to_num(roman):\n",
    "    result = 0\n",
    "    for i in range(len(roman)):\n",
    "        num = roman_dict[roman[i]]\n",
    "        try:\n",
    "            if(num < roman_dict[roman[i+1]]):\n",
    "                num = -num\n",
    "        except: pass\n",
    "        result += num\n",
    "    return result\n",
    "    \n",
    "print(roman_to_num(\"MCMXCIV\"))"
   ]
  },
  {
   "cell_type": "markdown",
   "id": "449a42ee",
   "metadata": {},
   "source": [
    "# 카이사르 암호"
   ]
  },
  {
   "cell_type": "code",
   "execution_count": 102,
   "id": "e27647f6",
   "metadata": {
    "ExecuteTime": {
     "end_time": "2021-11-20T05:40:14.040214Z",
     "start_time": "2021-11-20T05:40:14.023221Z"
    }
   },
   "outputs": [
    {
     "name": "stdout",
     "output_type": "stream",
     "text": [
      "This is the Caesar Cryptographic Algorithm.\n",
      "Yklv lv wkh Hdhvdu Hubswrjudsklf Fojrulwkp.\n",
      "This is the Caesar Cryptographic Algorithm.\n"
     ]
    }
   ],
   "source": [
    " #카이사르 암호화 솔루션입니다.\n",
    "def Encrypt(text,n,m):\n",
    "    en_text =\"\"\n",
    "    nb = ord('a')\n",
    "    mb = ord('A')\n",
    "    gap_n = n - nb #n - ord('a')\n",
    "    gap_m = m - mb #m - ord('A)\n",
    "\n",
    "    for i in range(len(text)):\n",
    "        if text[i].islower():\n",
    "            och = (ord(text[i])+gap_n)%26+nb\n",
    "            en_text += chr(och)\n",
    "        elif text[i].isupper():\n",
    "            och = (ord(text[i])+gap_m)%26+mb\n",
    "            en_text += chr(och)\n",
    "        else:\n",
    "            en_text += text[i]\n",
    "    return en_text\n",
    "\n",
    "def Decrypt(text,n,m):\n",
    "    return Encrypt(text,-n,-m)\n",
    "text = \"This is the Caesar Cryptographic Algorithm.\"\n",
    "print(text)\n",
    "sec = Encrypt(text,3,5)\n",
    "print(sec)\n",
    "dec = Decrypt(sec,3,5)\n",
    "print(dec)"
   ]
  },
  {
   "cell_type": "markdown",
   "id": "9e461efe",
   "metadata": {},
   "source": [
    "# 이진탐색"
   ]
  },
  {
   "cell_type": "code",
   "execution_count": 87,
   "id": "232c9b17",
   "metadata": {
    "ExecuteTime": {
     "end_time": "2021-11-20T03:53:02.444716Z",
     "start_time": "2021-11-20T03:53:02.420734Z"
    }
   },
   "outputs": [
    {
     "data": {
      "text/plain": [
       "([37, 212, 456, 223], True)"
      ]
     },
     "execution_count": 87,
     "metadata": {},
     "output_type": "execute_result"
    }
   ],
   "source": [
    "def solution(nums, target):\n",
    "    res = []\n",
    "    while True:\n",
    "        if((t:=nums[(n:=len(nums)//2)])==target):\n",
    "            res.append(t)\n",
    "            return res, True\n",
    "        if(t>target):\n",
    "            res.append(t)\n",
    "            nums = nums[:n]\n",
    "        else:\n",
    "            res.append(t)\n",
    "            nums = nums[n+1:]\n",
    "\n",
    "    \n",
    "solution(nums=[2, 7, 11, 15, 22, 34, 37, 50, 120, 212, 223, 456], target=223)"
   ]
  },
  {
   "cell_type": "markdown",
   "id": "a3088bc8",
   "metadata": {},
   "source": [
    "# 후위 표기 수식 계산(스택계산기)"
   ]
  },
  {
   "cell_type": "code",
   "execution_count": 115,
   "id": "6c8e3c5c",
   "metadata": {
    "ExecuteTime": {
     "end_time": "2021-11-20T05:53:50.355630Z",
     "start_time": "2021-11-20T05:53:50.346636Z"
    }
   },
   "outputs": [
    {
     "name": "stdout",
     "output_type": "stream",
     "text": [
      "10\n"
     ]
    }
   ],
   "source": [
    "def Calculate(tokens):\n",
    "    stack = []\n",
    "    for t in tokens:\n",
    "        stack.append(t)\n",
    "        if(not stack[-1].isdigit()):\n",
    "            op = stack.pop()\n",
    "            a = stack.pop(); b = stack.pop()\n",
    "            stack.append(eval(f'{b} {op} {a}'))\n",
    "    return stack[-1] \n",
    "\n",
    "    \n",
    "print(Calculate([\"2\", \"3\", \"5\", \"*\", \"+\", \"7\", \"-\"]))"
   ]
  },
  {
   "cell_type": "markdown",
   "id": "b1abc97b",
   "metadata": {},
   "source": [
    "# 하노이 타워"
   ]
  },
  {
   "cell_type": "code",
   "execution_count": 3,
   "id": "74b83698",
   "metadata": {
    "ExecuteTime": {
     "end_time": "2021-11-22T17:20:39.158474Z",
     "start_time": "2021-11-22T17:20:39.142479Z"
    }
   },
   "outputs": [
    {
     "name": "stdout",
     "output_type": "stream",
     "text": [
      "[['a', 'c'], ['a', 'b'], ['c', 'b'], ['a', 'c'], ['b', 'a'], ['b', 'c'], ['a', 'c']]\n"
     ]
    }
   ],
   "source": [
    "def Hanoi(src,use,dst,n):\n",
    "    '''\n",
    "    n==1: return\n",
    "    else: 1. n-1, src -> (dst) -> via\n",
    "          2. n, src -> dst\n",
    "          3. n-1, via -> (src) -> dst\n",
    "    '''\n",
    "    path=[]\n",
    "    if n<=0:\n",
    "        return path\n",
    "    if n==1:\n",
    "        path.append([src,dst])\n",
    "    else:\n",
    "        p1 = Hanoi(src,dst,use,n-1)\n",
    "        path.extend(p1)\n",
    "        path.append([src,dst])\n",
    "        p2 = Hanoi(use,src,dst,n-1)\n",
    "        path.extend(p2)\n",
    "    return path\n",
    "\n",
    "\n",
    "print(Hanoi(\"a\",\"b\",\"c\",3))\n",
    "## 2^n - 1"
   ]
  },
  {
   "cell_type": "markdown",
   "id": "68da866a",
   "metadata": {},
   "source": [
    "# BFS 알고리즘"
   ]
  },
  {
   "cell_type": "code",
   "execution_count": 166,
   "id": "ee20df61",
   "metadata": {
    "ExecuteTime": {
     "end_time": "2021-11-20T07:03:35.842545Z",
     "start_time": "2021-11-20T07:03:35.799568Z"
    }
   },
   "outputs": [
    {
     "data": {
      "text/plain": [
       "[[1, 1],\n",
       " [1, 2],\n",
       " [1, 3],\n",
       " [1, 4],\n",
       " [2, 4],\n",
       " [3, 4],\n",
       " [4, 4],\n",
       " [4, 5],\n",
       " [4, 6],\n",
       " [5, 6],\n",
       " [6, 6],\n",
       " [6, 7],\n",
       " [6, 8],\n",
       " [7, 8],\n",
       " [8, 8],\n",
       " [9, 8],\n",
       " [9, 9],\n",
       " [9, 10],\n",
       " [10, 10]]"
      ]
     },
     "execution_count": 166,
     "metadata": {},
     "output_type": "execute_result"
    }
   ],
   "source": [
    "from collections import deque\n",
    "\n",
    "\n",
    "def LoadOfFlood(maze,sx,sy):\n",
    "    path = []\n",
    "    moves = [[1,0], [0,1], [-1,0], [0,-1]]\n",
    "    deq = deque([[1,1],])\n",
    "    \n",
    "    while deq:\n",
    "        x,y = deq.popleft()\n",
    "        for m in moves:\n",
    "            if(maze[(nx:=(x+m[0]))][(ny:=(y+m[1]))] == -2):\n",
    "                maze[nx][ny] = maze[x][y] + 1\n",
    "                return backtracking(maze, nx, ny)\n",
    "            if(maze[nx][ny] == 0):\n",
    "                deq.append([nx,ny])\n",
    "                maze[nx][ny] = maze[x][y] + 1\n",
    "\n",
    "\n",
    "def backtracking(maze, x, y):\n",
    "    res = []\n",
    "    moves = [[0,-1],[-1,0],[0,1],[1,0]]\n",
    "    \n",
    "    while True:\n",
    "        res.append([x,y])\n",
    "        if((v:=maze[x][y]) == 1):\n",
    "            return res[::-1]\n",
    "        for m in moves:\n",
    "            if(maze[(nx:=(x+m[0]))][(ny:=(y+m[1]))] == (v-1)):\n",
    "                x,y = nx,ny; continue;\n",
    "   \n",
    "        \n",
    "maze = [\n",
    "        [-1,-1,-1,-1,-1,-1,-1,-1,-1,-1,-1,-1],\n",
    "        [-1, 1, 0, 0, 0, 0,-1, 0, 0, 0, 0,-1],\n",
    "        [-1, 0,-1,-1, 0,-1, 0,-1, 0,-1, 0,-1],\n",
    "        [-1, 0,-1,-1, 0,-1, 0, 0, 0,-1, 0,-1],\n",
    "        [-1, 0,-1, 0, 0, 0, 0,-1,-1, 0, 0,-1],\n",
    "        [-1, 0,-1, 0,-1,-1, 0,-1, 0,-1,-1,-1],\n",
    "        [-1, 0,-1,-1, 0,-1, 0, 0, 0, 0, 0,-1],\n",
    "        [-1, 0,-1, 0, 0,-1, 0,-1, 0,-1, 0,-1],\n",
    "        [-1, 0, 0, 0, 0,-1, 0,-1, 0,-1, 0,-1],\n",
    "        [-1, 0,-1,-1,-1, 0, 0,-1, 0, 0, 0,-1],\n",
    "        [-1, 0, 0, 0,-1,-1,-1, 0, 0,-1,-2,-1],\n",
    "        [-1,-1,-1,-1,-1,-1,-1,-1,-1,-1,-1,-1],\n",
    "    ]\n",
    "LoadOfFlood(maze,1,1)"
   ]
  },
  {
   "cell_type": "markdown",
   "id": "ca0c6c8e",
   "metadata": {},
   "source": [
    "# 미로에서 경로 찾기(DFS알고리즘)"
   ]
  },
  {
   "cell_type": "code",
   "execution_count": 178,
   "id": "00cf7065",
   "metadata": {
    "ExecuteTime": {
     "end_time": "2021-11-20T07:28:07.168015Z",
     "start_time": "2021-11-20T07:28:07.138031Z"
    }
   },
   "outputs": [
    {
     "name": "stdout",
     "output_type": "stream",
     "text": [
      "True\n",
      "[[1, 1], [1, 2], [1, 3], [1, 4], [2, 4], [3, 4], [4, 4], [4, 5], [4, 6], [5, 6], [6, 6], [6, 7], [6, 8], [7, 8], [8, 8], [9, 8], [9, 9], [9, 10]]\n"
     ]
    }
   ],
   "source": [
    "def FindLoad(maze,sx,sy):\n",
    "    moves = [[1,0], [0,1], [-1,0], [0,-1]]\n",
    "    res.append([sx,sy])\n",
    "    maze[sx][sy] = 1\n",
    "    \n",
    "    for m in moves:\n",
    "        if(maze[(nx:=(sx+m[0]))][(ny:=(sy+m[1]))] == -2):\n",
    "            return True\n",
    "        if(maze[nx][ny] == 0):\n",
    "            if(FindLoad(maze,nx,ny)): return True\n",
    "    else:\n",
    "        if(res): res.pop()\n",
    "\n",
    "    \n",
    "maze = [\n",
    "    [-1,-1,-1,-1,-1,-1,-1,-1,-1,-1,-1,-1],\n",
    "    [-1, 1, 0, 0, 0, 0,-1, 0, 0, 0, 0,-1],\n",
    "    [-1, 0,-1,-1, 0,-1, 0,-1, 0,-1, 0,-1],\n",
    "    [-1, 0,-1,-1, 0,-1, 0, 0, 0,-1, 0,-1],\n",
    "    [-1, 0,-1, 0, 0, 0, 0,-1,-1, 0, 0,-1],\n",
    "    [-1, 0,-1, 0,-1,-1, 0,-1, 0,-1,-1,-1],\n",
    "    [-1, 0,-1,-1, 0,-1, 0, 0, 0, 0, 0,-1],\n",
    "    [-1, 0,-1, 0, 0,-1, 0,-1, 0,-1, 0,-1],\n",
    "    [-1, 0, 0, 0, 0,-1, 0,-1, 0,-1, 0,-1],\n",
    "    [-1, 0,-1,-1,-1, 0, 0,-1, 0, 0, 0,-1],\n",
    "    [-1, 0, 0, 0,-1,-1,-1, 0, 0,-1,-2,-1],\n",
    "    [-1,-1,-1,-1,-1,-1,-1,-1,-1,-1,-1,-1],\n",
    "        ]\n",
    "res = []\n",
    "print(FindLoad(maze,1,1))\n",
    "print(res)"
   ]
  },
  {
   "cell_type": "markdown",
   "id": "bf8e1f06",
   "metadata": {},
   "source": [
    "# 피보나치 수열(DP)"
   ]
  },
  {
   "cell_type": "code",
   "execution_count": 187,
   "id": "6b638a36",
   "metadata": {
    "ExecuteTime": {
     "end_time": "2021-11-20T07:36:20.748994Z",
     "start_time": "2021-11-20T07:36:20.730007Z"
    }
   },
   "outputs": [
    {
     "name": "stdout",
     "output_type": "stream",
     "text": [
      "1548008755920\n"
     ]
    }
   ],
   "source": [
    "from functools import lru_cache\n",
    "\n",
    "@lru_cache(maxsize=None)\n",
    "def Breed(n):\n",
    "    if(n<2): return n\n",
    "    p = Breed(n-1) + Breed(n-2)\n",
    "    return p\n",
    "\n",
    "    \n",
    "print(Breed(60))"
   ]
  }
 ],
 "metadata": {
  "kernelspec": {
   "display_name": "Python 3",
   "language": "python",
   "name": "python3"
  },
  "language_info": {
   "codemirror_mode": {
    "name": "ipython",
    "version": 3
   },
   "file_extension": ".py",
   "mimetype": "text/x-python",
   "name": "python",
   "nbconvert_exporter": "python",
   "pygments_lexer": "ipython3",
   "version": "3.8.11"
  },
  "toc": {
   "base_numbering": 1,
   "nav_menu": {},
   "number_sections": true,
   "sideBar": true,
   "skip_h1_title": false,
   "title_cell": "Table of Contents",
   "title_sidebar": "Contents",
   "toc_cell": true,
   "toc_position": {
    "height": "calc(100% - 180px)",
    "left": "10px",
    "top": "150px",
    "width": "165px"
   },
   "toc_section_display": true,
   "toc_window_display": true
  },
  "varInspector": {
   "cols": {
    "lenName": 16,
    "lenType": 16,
    "lenVar": 40
   },
   "kernels_config": {
    "python": {
     "delete_cmd_postfix": "",
     "delete_cmd_prefix": "del ",
     "library": "var_list.py",
     "varRefreshCmd": "print(var_dic_list())"
    },
    "r": {
     "delete_cmd_postfix": ") ",
     "delete_cmd_prefix": "rm(",
     "library": "var_list.r",
     "varRefreshCmd": "cat(var_dic_list()) "
    }
   },
   "types_to_exclude": [
    "module",
    "function",
    "builtin_function_or_method",
    "instance",
    "_Feature"
   ],
   "window_display": false
  }
 },
 "nbformat": 4,
 "nbformat_minor": 5
}
