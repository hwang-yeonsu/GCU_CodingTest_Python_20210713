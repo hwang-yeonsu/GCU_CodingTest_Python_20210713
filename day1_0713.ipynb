{
 "cells": [
  {
   "cell_type": "markdown",
   "metadata": {
    "toc": true
   },
   "source": [
    "<h1>Table of Contents<span class=\"tocSkip\"></span></h1>\n",
    "<div class=\"toc\"><ul class=\"toc-item\"><li><span><a href=\"#변수선언\" data-toc-modified-id=\"변수선언-1\">변수선언</a></span></li><li><span><a href=\"#출력\" data-toc-modified-id=\"출력-2\">출력</a></span></li><li><span><a href=\"#입력\" data-toc-modified-id=\"입력-3\">입력</a></span></li><li><span><a href=\"#산술연산자\" data-toc-modified-id=\"산술연산자-4\">산술연산자</a></span></li><li><span><a href=\"#조건문\" data-toc-modified-id=\"조건문-5\">조건문</a></span></li><li><span><a href=\"#반복문\" data-toc-modified-id=\"반복문-6\">반복문</a></span></li><li><span><a href=\"#함수\" data-toc-modified-id=\"함수-7\">함수</a></span></li><li><span><a href=\"#리스트\" data-toc-modified-id=\"리스트-8\">리스트</a></span></li><li><span><a href=\"#문자열\" data-toc-modified-id=\"문자열-9\">문자열</a></span></li></ul></div>"
   ]
  },
  {
   "cell_type": "markdown",
   "metadata": {},
   "source": [
    "# 변수선언"
   ]
  },
  {
   "cell_type": "code",
   "execution_count": 4,
   "metadata": {},
   "outputs": [
    {
     "name": "stdout",
     "output_type": "stream",
     "text": [
      "홍길동\n",
      "3\n",
      "3.75\n"
     ]
    }
   ],
   "source": [
    "# 형식을 명시할 필요가 없다\n",
    "name = '홍길동'\n",
    "print(name)\n",
    "\n",
    "num = 3\n",
    "print(num)\n",
    "\n",
    "score = 3.75\n",
    "print(score)"
   ]
  },
  {
   "cell_type": "markdown",
   "metadata": {},
   "source": [
    "# 출력"
   ]
  },
  {
   "cell_type": "code",
   "execution_count": 7,
   "metadata": {},
   "outputs": [
    {
     "name": "stdout",
     "output_type": "stream",
     "text": [
      "홍길동,23,8.75\n"
     ]
    }
   ],
   "source": [
    "print('홍길동', end=',')\n",
    "print(23, end=',')\n",
    "print(8.75)"
   ]
  },
  {
   "cell_type": "code",
   "execution_count": 9,
   "metadata": {},
   "outputs": [
    {
     "name": "stdout",
     "output_type": "stream",
     "text": [
      "10진수: 256\n",
      "8진수: 400\n",
      "16진수: 100\n"
     ]
    }
   ],
   "source": [
    "num = 256\n",
    "print(\"10진수:\", format(num, 'd')) # decimal\n",
    "print(\"8진수:\", format(num, 'o')) # octet\n",
    "print(\"16진수:\", format(num, 'x')) # hexa"
   ]
  },
  {
   "cell_type": "code",
   "execution_count": 11,
   "metadata": {},
   "outputs": [
    {
     "name": "stdout",
     "output_type": "stream",
     "text": [
      "a:3 b:4\n"
     ]
    }
   ],
   "source": [
    "a, b = 3, 4\n",
    "print(\"a:{0} b:{1}\".format(a, b))"
   ]
  },
  {
   "cell_type": "markdown",
   "metadata": {},
   "source": [
    "# 입력"
   ]
  },
  {
   "cell_type": "code",
   "execution_count": 12,
   "metadata": {},
   "outputs": [
    {
     "name": "stdout",
     "output_type": "stream",
     "text": [
      "이름: 홍길동\n",
      "홍길동\n",
      "주소: 서울\n",
      "서울\n"
     ]
    }
   ],
   "source": [
    "name = input('이름: ')\n",
    "print(name)\n",
    "addr = input('주소: ')\n",
    "print(addr)"
   ]
  },
  {
   "cell_type": "code",
   "execution_count": 14,
   "metadata": {},
   "outputs": [
    {
     "name": "stdout",
     "output_type": "stream",
     "text": [
      "첫 번째 정수: 34\n",
      "두 번째 정수: 12\n",
      "34+12 = 46\n"
     ]
    }
   ],
   "source": [
    "num1 = int(input('첫 번째 정수: '))\n",
    "num2 = int(input('두 번째 정수: '))\n",
    "print(\"{0}+{1} = {2}\".format(num1, num2, num1+num2))"
   ]
  },
  {
   "cell_type": "markdown",
   "metadata": {},
   "source": [
    "# 산술연산자"
   ]
  },
  {
   "cell_type": "code",
   "execution_count": 17,
   "metadata": {},
   "outputs": [
    {
     "name": "stdout",
     "output_type": "stream",
     "text": [
      "a:12.34 b:2.1\n"
     ]
    }
   ],
   "source": [
    "a = 12.34\n",
    "b = 2.1\n",
    "\n",
    "print('a:{0} b:{1}'.format(a,b))"
   ]
  },
  {
   "cell_type": "code",
   "execution_count": 19,
   "metadata": {},
   "outputs": [
    {
     "name": "stdout",
     "output_type": "stream",
     "text": [
      "a+b= 14.44\n",
      "a-b= 10.24\n",
      "a*b= 25.914\n",
      "a/b=5.876\n"
     ]
    }
   ],
   "source": [
    "print(\"a+b=\", a+b)\n",
    "print(\"a-b=\", a-b)\n",
    "print(\"a*b=\", a*b)\n",
    "print(\"a/b={0:.3f}\".format(a/b))"
   ]
  },
  {
   "cell_type": "code",
   "execution_count": 20,
   "metadata": {},
   "outputs": [
    {
     "name": "stdout",
     "output_type": "stream",
     "text": [
      "9//4 = 2\n",
      "9%4 = 1\n"
     ]
    }
   ],
   "source": [
    "a = 9\n",
    "b = 4\n",
    "print(\"{0}//{1} = {2}\".format(a,b,a//b))\n",
    "print(\"{0}%{1} = {2}\".format(a,b,a%b))"
   ]
  },
  {
   "cell_type": "code",
   "execution_count": 23,
   "metadata": {},
   "outputs": [
    {
     "name": "stdout",
     "output_type": "stream",
     "text": [
      "0\n",
      "1\n",
      "2\n",
      "3\n",
      "4\n",
      "0\n",
      "1\n",
      "2\n",
      "3\n",
      "4\n",
      "0\n",
      "1\n"
     ]
    }
   ],
   "source": [
    "# circular index\n",
    "i=0\n",
    "print(i)\n",
    "i=(i+1)%5\n",
    "print(i)\n",
    "i=(i+1)%5\n",
    "print(i)\n",
    "i=(i+1)%5\n",
    "print(i)\n",
    "i=(i+1)%5\n",
    "print(i)\n",
    "i=(i+1)%5\n",
    "print(i)\n",
    "i=(i+1)%5\n",
    "print(i)\n",
    "i=(i+1)%5\n",
    "print(i)\n",
    "i=(i+1)%5\n",
    "print(i)\n",
    "i=(i+1)%5\n",
    "print(i)\n",
    "i=(i+1)%5\n",
    "print(i)\n",
    "i=(i+1)%5\n",
    "print(i)\n"
   ]
  },
  {
   "cell_type": "markdown",
   "metadata": {},
   "source": [
    "# 조건문"
   ]
  },
  {
   "cell_type": "code",
   "execution_count": 26,
   "metadata": {},
   "outputs": [
    {
     "name": "stdout",
     "output_type": "stream",
     "text": [
      "성별을 입력(0:여성, 1:남성)2\n",
      "남성\n"
     ]
    }
   ],
   "source": [
    "flag = int(input(\"성별을 입력(0:여성, 1:남성)\"))\n",
    "if flag == 0:\n",
    "    print(\"여성\")\n",
    "else:\n",
    "    print(\"남성\")"
   ]
  },
  {
   "cell_type": "code",
   "execution_count": 31,
   "metadata": {},
   "outputs": [
    {
     "name": "stdout",
     "output_type": "stream",
     "text": [
      "정수: 121\n",
      "약수 중에 최소는 5이상 입니다.\n"
     ]
    }
   ],
   "source": [
    "num = int(input('정수: '))\n",
    "if num%2==0:\n",
    "    print('약수 중에 최소는 2')\n",
    "elif num%3==0:\n",
    "    print('약수 중에 최소는 3')\n",
    "elif num%4==0:\n",
    "    print('약수 중에 최소는 4')\n",
    "else:\n",
    "num = int(input('정수: '))\n",
    "    print('약수 중에 최소는 5이상 입니다.')"
   ]
  },
  {
   "cell_type": "code",
   "execution_count": 33,
   "metadata": {},
   "outputs": [
    {
     "name": "stdout",
     "output_type": "stream",
     "text": [
      "정수: 121\n",
      "11\n"
     ]
    }
   ],
   "source": [
    "num = int(input('정수: '))\n",
    "for i in range(2, num+1):\n",
    "    if(num%i==0):\n",
    "        print(i)\n",
    "        break"
   ]
  },
  {
   "cell_type": "markdown",
   "metadata": {},
   "source": [
    "# 반복문"
   ]
  },
  {
   "cell_type": "code",
   "execution_count": 34,
   "metadata": {},
   "outputs": [
    {
     "name": "stdout",
     "output_type": "stream",
     "text": [
      "1~100 합계: 5050\n"
     ]
    }
   ],
   "source": [
    "lcnt = 1 # loop count 변수\n",
    "sum = 0\n",
    "while lcnt<=100:\n",
    "    sum += lcnt\n",
    "    lcnt += 1 \n",
    "print('1~100 합계:', sum)"
   ]
  },
  {
   "cell_type": "code",
   "execution_count": 35,
   "metadata": {},
   "outputs": [
    {
     "name": "stdout",
     "output_type": "stream",
     "text": [
      "1\n",
      "2\n",
      "3\n",
      "34\n",
      "2\n"
     ]
    }
   ],
   "source": [
    "items = [1,2,3,34,2]\n",
    "for item in items:\n",
    "    print(item)"
   ]
  },
  {
   "cell_type": "code",
   "execution_count": 36,
   "metadata": {},
   "outputs": [
    {
     "name": "stdout",
     "output_type": "stream",
     "text": [
      "4950\n"
     ]
    }
   ],
   "source": [
    "sum = 0\n",
    "for i in range(100):\n",
    "    sum += i\n",
    "print(sum)"
   ]
  },
  {
   "cell_type": "markdown",
   "metadata": {},
   "source": [
    "# 함수"
   ]
  },
  {
   "cell_type": "code",
   "execution_count": 42,
   "metadata": {},
   "outputs": [
    {
     "name": "stdout",
     "output_type": "stream",
     "text": [
      "함수 A\n",
      "함수 A\n",
      "함수 A\n",
      "함수 B\n",
      "함수 C\n",
      "함수 C\n"
     ]
    }
   ],
   "source": [
    "def function_a():\n",
    "    print('함수 A')\n",
    "def function_b():\n",
    "    print('함수 B')\n",
    "def function_c():\n",
    "    print('함수 C')\n",
    "\n",
    "function_a()\n",
    "function_a()\n",
    "function_a()\n",
    "function_b()\n",
    "function_c()\n",
    "function_c()"
   ]
  },
  {
   "cell_type": "code",
   "execution_count": 43,
   "metadata": {},
   "outputs": [
    {
     "name": "stdout",
     "output_type": "stream",
     "text": [
      "55\n",
      "45\n",
      "5050\n"
     ]
    }
   ],
   "source": [
    "def calcul_sum(start, end):\n",
    "    sum = 0\n",
    "    for i in range(start, end+1):\n",
    "        sum += i\n",
    "    return sum\n",
    "\n",
    "print(calcul_sum(1, 10))\n",
    "print(calcul_sum(5, 10))\n",
    "print(calcul_sum(1, 100))"
   ]
  },
  {
   "cell_type": "code",
   "execution_count": 18,
   "metadata": {},
   "outputs": [
    {
     "name": "stdout",
     "output_type": "stream",
     "text": [
      "Perfect: [6, 6]\n"
     ]
    }
   ],
   "source": [
    "# 완전수\n",
    "def is_perfect(num):\n",
    "    result = []\n",
    "    for n in num:\n",
    "        tmp = 0\n",
    "        for i in range(1, n):\n",
    "            if(n%i == 0):\n",
    "                tmp += i\n",
    "        if(tmp == n):\n",
    "            result.append(n)\n",
    "    return result\n",
    "\n",
    "\n",
    "num = [1,5,3,6,12,8,34,6]\n",
    "print('Perfect:', is_perfect(num))"
   ]
  },
  {
   "cell_type": "code",
   "execution_count": 95,
   "metadata": {},
   "outputs": [
    {
     "name": "stdout",
     "output_type": "stream",
     "text": [
      "균형 인덱스: 4 \n",
      "인덱스 값: 5 \n",
      "균형 무게: 10\n"
     ]
    }
   ],
   "source": [
    "# 균형 원소 찾기\n",
    "def find_balance(weights):\n",
    "    front_w, rear_w = [0], [sum(weights[1:])]\n",
    "    for i in range(1, len(weights)-1):\n",
    "        front_w.append(front_w[i-1] + weights[i-1])\n",
    "        rear_w.append(rear_w[i-1] - weights[i])\n",
    "        #print(front_w, rear_w)\n",
    "        \n",
    "        if(front_w[i] == rear_w[i]):\n",
    "            return [i, weights[i], front_w[i]]\n",
    "    return []\n",
    "\n",
    "\n",
    "weights = [1,2,3,4,5,2,3,5]\n",
    "is_balance = find_balance(weights)\n",
    "\n",
    "print(f'균형 인덱스: {is_balance[0]} \\n인덱스 값: {is_balance[1]} \\n균형 무게: {is_balance[2]}')\\\n",
    "if is_balance != [] else print('False')"
   ]
  },
  {
   "cell_type": "markdown",
   "metadata": {},
   "source": [
    "# 리스트"
   ]
  },
  {
   "cell_type": "code",
   "execution_count": 101,
   "metadata": {},
   "outputs": [
    {
     "name": "stdout",
     "output_type": "stream",
     "text": [
      "(1, 2, 3)\n"
     ]
    }
   ],
   "source": [
    "tup1 = (1,2,3)\n",
    "print(tup1)\n",
    "\n",
    "# tup1[0] = 2"
   ]
  },
  {
   "cell_type": "code",
   "execution_count": 99,
   "metadata": {},
   "outputs": [
    {
     "name": "stdout",
     "output_type": "stream",
     "text": [
      "[6, 7, 8]\n",
      "[7, 7, 8]\n"
     ]
    }
   ],
   "source": [
    "list1 = [6,7,8]\n",
    "print(list1)\n",
    "\n",
    "list1[0] = 7\n",
    "print(list1)"
   ]
  },
  {
   "cell_type": "code",
   "execution_count": 102,
   "metadata": {},
   "outputs": [
    {
     "name": "stdout",
     "output_type": "stream",
     "text": [
      "[7, 7, 8]\n",
      "[7, 7, 8, 3, 7]\n"
     ]
    }
   ],
   "source": [
    "print(list1)\n",
    "list1.append(3)\n",
    "list1.append(7)\n",
    "print(list1)"
   ]
  },
  {
   "cell_type": "code",
   "execution_count": 111,
   "metadata": {},
   "outputs": [
    {
     "name": "stdout",
     "output_type": "stream",
     "text": [
      "[7, 7, 8, 3, 3, 3, 3, 3, 3, 3, 10, 3, 10, 3, 10, 3, 10, 7, 10, 10, 10, 10, 10]\n"
     ]
    }
   ],
   "source": [
    "list1.insert(3,3)\n",
    "list1.insert(70,10)\n",
    "print(list1)"
   ]
  },
  {
   "cell_type": "code",
   "execution_count": 112,
   "metadata": {},
   "outputs": [
    {
     "name": "stdout",
     "output_type": "stream",
     "text": [
      "[1, 2, 3, 10]\n"
     ]
    }
   ],
   "source": [
    "list2=[1,2,3]\n",
    "list2.insert(10,10)\n",
    "print(list2)"
   ]
  },
  {
   "cell_type": "code",
   "execution_count": 200,
   "metadata": {},
   "outputs": [
    {
     "name": "stdout",
     "output_type": "stream",
     "text": [
      "02468ACE\n",
      "['0', '1', '2', '3', '4', '5', '6', '7', '8', '9', 'A', 'B', 'C', 'D', 'E', 'F', '10', '11', '12', '13']\n"
     ]
    }
   ],
   "source": [
    "# n진수 게임\n",
    "import string\n",
    "\n",
    "nums = string.digits+string.ascii_uppercase\n",
    "def convert(num, base) :\n",
    "    q, r = divmod(num, base)\n",
    "    if q == 0 :\n",
    "        return nums[r] \n",
    "    else :\n",
    "        return convert(q, base) + nums[r]\n",
    "\n",
    "def solution(n,t,m,p):\n",
    "    result, tmp = '', ''\n",
    "    for i in range(t*m):\n",
    "        tmp += convert(i, n)\n",
    "        if(i%m == p-1):\n",
    "            result += tmp[i]\n",
    "    return result\n",
    "    \n",
    "print(solution(16,8,2,1))\n",
    "print([convert(i,16) for i in range(20)])"
   ]
  },
  {
   "cell_type": "markdown",
   "metadata": {},
   "source": [
    "# 문자열"
   ]
  },
  {
   "cell_type": "code",
   "execution_count": 237,
   "metadata": {},
   "outputs": [
    {
     "name": "stdout",
     "output_type": "stream",
     "text": [
      "[True, True, False, True, False]\n"
     ]
    }
   ],
   "source": [
    "# 회문(Palindrome) 판별\n",
    "def is_palindromes(texts):\n",
    "    result = []\n",
    "    for text in texts:\n",
    "        tmp = []\n",
    "        for i in text:\n",
    "            if(i.isalpha()):\n",
    "                tmp += i.upper()\n",
    "\n",
    "        if(tmp == []):\n",
    "            result.append(False)\n",
    "            continue\n",
    "\n",
    "        for i in range(len(tmp)):\n",
    "            if(tmp[i] != tmp[-1-i]):\n",
    "                result.append(False)\n",
    "                break\n",
    "        else:\n",
    "            result.append(True)\n",
    "            \n",
    "    return result\n",
    "\n",
    "texts = [\"Madam, I'm Adam.\", \"rotator\", \"Hello\", \"nurses run\", \" \"]\n",
    "print(is_palindromes(texts))"
   ]
  }
 ],
 "metadata": {
  "kernelspec": {
   "display_name": "Python 3",
   "language": "python",
   "name": "python3"
  },
  "language_info": {
   "codemirror_mode": {
    "name": "ipython",
    "version": 3
   },
   "file_extension": ".py",
   "mimetype": "text/x-python",
   "name": "python",
   "nbconvert_exporter": "python",
   "pygments_lexer": "ipython3",
   "version": "3.8.11"
  },
  "toc": {
   "base_numbering": 1,
   "nav_menu": {},
   "number_sections": false,
   "sideBar": false,
   "skip_h1_title": false,
   "title_cell": "Table of Contents",
   "title_sidebar": "Contents",
   "toc_cell": true,
   "toc_position": {},
   "toc_section_display": true,
   "toc_window_display": false
  },
  "varInspector": {
   "cols": {
    "lenName": 16,
    "lenType": 16,
    "lenVar": 40
   },
   "kernels_config": {
    "python": {
     "delete_cmd_postfix": "",
     "delete_cmd_prefix": "del ",
     "library": "var_list.py",
     "varRefreshCmd": "print(var_dic_list())"
    },
    "r": {
     "delete_cmd_postfix": ") ",
     "delete_cmd_prefix": "rm(",
     "library": "var_list.r",
     "varRefreshCmd": "cat(var_dic_list()) "
    }
   },
   "types_to_exclude": [
    "module",
    "function",
    "builtin_function_or_method",
    "instance",
    "_Feature"
   ],
   "window_display": false
  }
 },
 "nbformat": 4,
 "nbformat_minor": 4
}
